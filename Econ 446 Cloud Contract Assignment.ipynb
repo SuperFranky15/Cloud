{
 "cells": [
  {
   "cell_type": "markdown",
   "id": "c145cccf",
   "metadata": {},
   "source": [
    "# Get Address Balance"
   ]
  },
  {
   "cell_type": "code",
   "execution_count": 2,
   "id": "d9fc5b22",
   "metadata": {},
   "outputs": [],
   "source": [
    "node_provider = \"https://mainnet.infura.io/v3/39583e2207ec405198d2f223a72e6626\""
   ]
  },
  {
   "cell_type": "code",
   "execution_count": 1,
   "id": "8a83d302",
   "metadata": {},
   "outputs": [],
   "source": [
    "from web3 import Web3"
   ]
  },
  {
   "cell_type": "code",
   "execution_count": 3,
   "id": "3a11f790",
   "metadata": {},
   "outputs": [],
   "source": [
    "web3_connection= Web3(Web3.HTTPProvider(node_provider))"
   ]
  },
  {
   "cell_type": "code",
   "execution_count": 6,
   "id": "03a6229d",
   "metadata": {},
   "outputs": [
    {
     "data": {
      "text/plain": [
       "True"
      ]
     },
     "execution_count": 6,
     "metadata": {},
     "output_type": "execute_result"
    }
   ],
   "source": [
    "web3_connection.is_connected()"
   ]
  },
  {
   "cell_type": "code",
   "execution_count": 13,
   "id": "f990ac69",
   "metadata": {},
   "outputs": [],
   "source": [
    "def balance_of(ETH_address):\n",
    "    balance = web3_connection.eth.get_balance(ETH_address)\n",
    "    balance_ETH = web3_connection.from_wei(balance,\"ether\")\n",
    "    return(balance_ETH)"
   ]
  },
  {
   "cell_type": "code",
   "execution_count": 8,
   "id": "c20458ec",
   "metadata": {},
   "outputs": [],
   "source": [
    "addy = \"0xd8dA6BF26964aF9D7eEd9e03E53415D37aA96045\""
   ]
  },
  {
   "cell_type": "code",
   "execution_count": 14,
   "id": "652a4198",
   "metadata": {},
   "outputs": [
    {
     "data": {
      "text/plain": [
       "Decimal('4119.618572057994478561')"
      ]
     },
     "execution_count": 14,
     "metadata": {},
     "output_type": "execute_result"
    }
   ],
   "source": [
    "balance_of(addy)"
   ]
  },
  {
   "cell_type": "code",
   "execution_count": null,
   "id": "5a139f19",
   "metadata": {},
   "outputs": [],
   "source": []
  },
  {
   "cell_type": "markdown",
   "id": "e567bdfe",
   "metadata": {},
   "source": [
    "# Connect to Ganache"
   ]
  },
  {
   "cell_type": "code",
   "execution_count": 15,
   "id": "fe3eef9a",
   "metadata": {},
   "outputs": [],
   "source": [
    "import json"
   ]
  },
  {
   "cell_type": "code",
   "execution_count": 52,
   "id": "ac8dbf74",
   "metadata": {},
   "outputs": [],
   "source": [
    "node_provider = \"HTTP://127.0.0.1:7545\"\n",
    "PRIVATE_KEY_1 = \"0x42ff276f47fd98e215b2c0ce514bb219a7a1b706d3284128cceff7ad11e1057b\"\n",
    "PRIVATE_KEY_2 = \"0x1f51aeac15b2248c891c21db06473d7a7ac1c23849961de0789ec2e96b4ceec1\"\n",
    "ADDRESS_1 = \"0x169D3a397Bb11a0B6574E1054DCb35f6C8419019\"\n",
    "ADDRESS_2 = \"0xe607e3aD1568f2523633341d70087D30F3bb6bAF\""
   ]
  },
  {
   "cell_type": "code",
   "execution_count": 53,
   "id": "e426f684",
   "metadata": {},
   "outputs": [],
   "source": [
    "web3_connection = Web3(Web3.HTTPProvider(node_provider))"
   ]
  },
  {
   "cell_type": "code",
   "execution_count": null,
   "id": "3251ae96",
   "metadata": {},
   "outputs": [],
   "source": []
  },
  {
   "cell_type": "markdown",
   "id": "c85982d4",
   "metadata": {},
   "source": [
    "# Deploy a smart contract"
   ]
  },
  {
   "cell_type": "code",
   "execution_count": 55,
   "id": "0701e6c0",
   "metadata": {},
   "outputs": [],
   "source": [
    "contract_abi = '[ { \"inputs\": [ { \"internalType\": \"uint256\", \"name\": \"_threshold\", \"type\": \"uint256\" }, { \"internalType\": \"address payable\", \"name\": \"_insurer\", \"type\": \"address\" } ], \"stateMutability\": \"payable\", \"type\": \"constructor\" }, { \"inputs\": [ { \"internalType\": \"address payable\", \"name\": \"_insured\", \"type\": \"address\" } ], \"name\": \"buy_insurance\", \"outputs\": [], \"stateMutability\": \"payable\", \"type\": \"function\" }, { \"inputs\": [], \"name\": \"currState\", \"outputs\": [ { \"internalType\": \"enum inflation_insurance.State\", \"name\": \"\", \"type\": \"uint8\" } ], \"stateMutability\": \"view\", \"type\": \"function\" }, { \"inputs\": [ { \"internalType\": \"uint256\", \"name\": \"_inflationNumber\", \"type\": \"uint256\" } ], \"name\": \"inflation_reading\", \"outputs\": [ { \"internalType\": \"uint256\", \"name\": \"\", \"type\": \"uint256\" } ], \"stateMutability\": \"payable\", \"type\": \"function\" } ]'\n",
    "contract_bytecode = \"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\"\n"
   ]
  },
  {
   "cell_type": "code",
   "execution_count": 56,
   "id": "ef7106ae",
   "metadata": {},
   "outputs": [],
   "source": [
    "contract_abi = json.loads(contract_abi)"
   ]
  },
  {
   "cell_type": "code",
   "execution_count": 57,
   "id": "65812d9b",
   "metadata": {},
   "outputs": [],
   "source": [
    "def get_nonce(ETH_address):\n",
    "    return(web3_connection.eth.get_transaction_count(ETH_address))\n",
    "\n",
    "def deploy_contract(threshold, amount_ETH, owner, signature):\n",
    "    inflation_insurance = web3_connection.eth.contract(abi=contract_abi, bytecode=contract_bytecode)\n",
    "    transaction_body = {\n",
    "        \"nonce\" : get_nonce(owner),\n",
    "        \"value\" : int(web3_connection.to_wei(amount_ETH, 'ether')),\n",
    "        \"gasPrice\": web3_connection.eth.gas_price\n",
    "    }\n",
    "    deployment = inflation_insurance.constructor(threshold, owner).build_transaction(transaction_body)\n",
    "    signed_transaction = web3_connection.eth.account.sign_transaction(deployment, signature)\n",
    "    result = web3_connection.eth.send_raw_transaction(signed_transaction.rawTransaction)\n",
    "    return(result)"
   ]
  },
  {
   "cell_type": "code",
   "execution_count": 121,
   "id": "92ae4641",
   "metadata": {},
   "outputs": [
    {
     "data": {
      "text/plain": [
       "HexBytes('0x696a85c4012aca6298e55837d6618cbb914dc7e2c30c669035e717f1cd954056')"
      ]
     },
     "execution_count": 121,
     "metadata": {},
     "output_type": "execute_result"
    }
   ],
   "source": [
    "deploy_contract(8, 2, ADDRESS_1, PRIVATE_KEY_1)"
   ]
  },
  {
   "cell_type": "code",
   "execution_count": 122,
   "id": "07fd4ffa",
   "metadata": {},
   "outputs": [],
   "source": [
    "contract_address = \"0xd4Bad7d9021baD60D6643821FbF421bD49130D8f\""
   ]
  },
  {
   "cell_type": "code",
   "execution_count": 123,
   "id": "aa0f176c",
   "metadata": {},
   "outputs": [],
   "source": [
    "def buy_policy(player, amount_ETH, signature):\n",
    "    contract = web3_connection.eth.contract(address = contract_address, abi=contract_abi)\n",
    "    transaction_body = {\n",
    "        'nonce' : get_nonce(player),\n",
    "        \"value\" : int(web3_connection.to_wei(amount_ETH, 'ether')),\n",
    "        \"gasPrice\": web3_connection.eth.gas_price\n",
    "    }\n",
    "    function_call = contract.functions.buy_insurance(player).build_transaction(transaction_body)\n",
    "    signed_transaction = web3_connection.eth.account.sign_transaction(function_call, signature)\n",
    "    result = web3_connection.eth.send_raw_transaction(signed_transaction.rawTransaction)\n",
    "    return(result)"
   ]
  },
  {
   "cell_type": "code",
   "execution_count": 124,
   "id": "9c6dd75b",
   "metadata": {},
   "outputs": [
    {
     "data": {
      "text/plain": [
       "HexBytes('0x4fdfce519a3f48b72e642ed62afbea9c39a4150e0583c6cb5f8562cf055e019f')"
      ]
     },
     "execution_count": 124,
     "metadata": {},
     "output_type": "execute_result"
    }
   ],
   "source": [
    "buy_policy(ADDRESS_3,2,PRIVATE_KEY_3)"
   ]
  },
  {
   "cell_type": "code",
   "execution_count": 74,
   "id": "ed63be7d",
   "metadata": {},
   "outputs": [],
   "source": [
    "def inflation_reading(player, inflation, signature):\n",
    "    contract = web3_connection.eth.contract(address = contract_address, abi=contract_abi)\n",
    "    transaction_body = {\n",
    "        'nonce' : get_nonce(player),\n",
    "        \"gasPrice\": web3_connection.eth.gas_price\n",
    "    }\n",
    "    function_call = contract.functions.inflation_reading(inflation).build_transaction(transaction_body)\n",
    "    signed_transaction = web3_connection.eth.account.sign_transaction(function_call, signature)\n",
    "    result = web3_connection.eth.send_raw_transaction(signed_transaction.rawTransaction)\n",
    "    return(result)"
   ]
  },
  {
   "cell_type": "code",
   "execution_count": 119,
   "id": "665d5036",
   "metadata": {},
   "outputs": [],
   "source": [
    "ADDRESS_3 = \"0x6826D033f5917E1fa87077b7502A3370e1779831\"\n",
    "PRIVATE_KEY_3 = \"0xb9a6a7843fb5fe213f3c8719ba36cc597689f0ab7808c30cf0f9c86c7a7e7703\""
   ]
  },
  {
   "cell_type": "code",
   "execution_count": 114,
   "id": "b2c19c48",
   "metadata": {},
   "outputs": [
    {
     "data": {
      "text/plain": [
       "HexBytes('0x1c84ea3debafdf5f341e87f6cf485ad5dd0f19a1e9626dfc1f802d47d9980714')"
      ]
     },
     "execution_count": 114,
     "metadata": {},
     "output_type": "execute_result"
    }
   ],
   "source": [
    "inflation_reading(ADDRESS_3, 10,PRIVATE_KEY_3)"
   ]
  },
  {
   "cell_type": "code",
   "execution_count": null,
   "id": "74c98c07",
   "metadata": {},
   "outputs": [],
   "source": []
  },
  {
   "cell_type": "markdown",
   "id": "232b7298",
   "metadata": {},
   "source": [
    "# Solidity Code"
   ]
  },
  {
   "cell_type": "code",
   "execution_count": null,
   "id": "edf71470",
   "metadata": {},
   "outputs": [],
   "source": [
    "pragma solidity ^0.8.1;\n",
    "contract inflation_insurance{\n",
    "    uint threshold;\n",
    "    uint balance;\n",
    "    address payable insurer;\n",
    "    address payable insured;\n",
    "\n",
    "    enum State {OPEN, PURCHASED}\n",
    "    State public currState;\n",
    "    \n",
    "\n",
    "    constructor (uint _threshold, address payable _insurer) payable {\n",
    "        require(msg.value >= 1*10**18);\n",
    "        threshold = _threshold;\n",
    "        balance = msg.value;\n",
    "        insurer = _insurer;\n",
    "    }\n",
    "\n",
    "    function buy_insurance(address payable _insured) public payable {\n",
    "        require(currState == State.OPEN, 'Insurance Policy Purchased');\n",
    "        require(msg.value >=.5*10**18, 'Pay .5 ETH as a one time premium');\n",
    "        insured = _insured;\n",
    "        currState = State.PURCHASED;\n",
    "        balance = balance + msg.value;\n",
    "        }\n",
    "\n",
    "\n",
    "    function inflation_reading(uint _inflationNumber) external payable returns(uint) {\n",
    "        if (_inflationNumber > threshold) {\n",
    "            insured.transfer(address(this).balance);\n",
    "            return balance;\n",
    "        }\n",
    "        else {\n",
    "            insured.transfer(address(this).balance);\n",
    "            return balance;\n",
    "        }\n",
    "    }\n",
    "}\n",
    "\n"
   ]
  },
  {
   "cell_type": "code",
   "execution_count": null,
   "id": "fcfca2f3",
   "metadata": {},
   "outputs": [],
   "source": []
  }
 ],
 "metadata": {
  "kernelspec": {
   "display_name": "Python 3 (ipykernel)",
   "language": "python",
   "name": "python3"
  },
  "language_info": {
   "codemirror_mode": {
    "name": "ipython",
    "version": 3
   },
   "file_extension": ".py",
   "mimetype": "text/x-python",
   "name": "python",
   "nbconvert_exporter": "python",
   "pygments_lexer": "ipython3",
   "version": "3.9.12"
  }
 },
 "nbformat": 4,
 "nbformat_minor": 5
}
